{
 "cells": [
  {
   "cell_type": "code",
   "execution_count": 68,
   "id": "f0cd08cf",
   "metadata": {},
   "outputs": [
    {
     "data": {
      "text/html": [
       "<div>\n",
       "<style scoped>\n",
       "    .dataframe tbody tr th:only-of-type {\n",
       "        vertical-align: middle;\n",
       "    }\n",
       "\n",
       "    .dataframe tbody tr th {\n",
       "        vertical-align: top;\n",
       "    }\n",
       "\n",
       "    .dataframe thead th {\n",
       "        text-align: right;\n",
       "    }\n",
       "</style>\n",
       "<table border=\"1\" class=\"dataframe\">\n",
       "  <thead>\n",
       "    <tr style=\"text-align: right;\">\n",
       "      <th></th>\n",
       "      <th>id</th>\n",
       "      <th>Sex</th>\n",
       "      <th>Length</th>\n",
       "      <th>Diameter</th>\n",
       "      <th>Height</th>\n",
       "      <th>Weight</th>\n",
       "      <th>Shucked Weight</th>\n",
       "      <th>Viscera Weight</th>\n",
       "      <th>Shell Weight</th>\n",
       "      <th>Age</th>\n",
       "    </tr>\n",
       "  </thead>\n",
       "  <tbody>\n",
       "    <tr>\n",
       "      <th>0</th>\n",
       "      <td>0</td>\n",
       "      <td>I</td>\n",
       "      <td>0.8125</td>\n",
       "      <td>0.6250</td>\n",
       "      <td>0.1625</td>\n",
       "      <td>5.244657</td>\n",
       "      <td>2.423882</td>\n",
       "      <td>1.119805</td>\n",
       "      <td>1.133980</td>\n",
       "      <td>5.0</td>\n",
       "    </tr>\n",
       "    <tr>\n",
       "      <th>1</th>\n",
       "      <td>1</td>\n",
       "      <td>M</td>\n",
       "      <td>1.1750</td>\n",
       "      <td>0.9250</td>\n",
       "      <td>0.2875</td>\n",
       "      <td>13.366789</td>\n",
       "      <td>5.556502</td>\n",
       "      <td>2.806601</td>\n",
       "      <td>4.266600</td>\n",
       "      <td>8.0</td>\n",
       "    </tr>\n",
       "    <tr>\n",
       "      <th>2</th>\n",
       "      <td>2</td>\n",
       "      <td>I</td>\n",
       "      <td>0.8500</td>\n",
       "      <td>0.6500</td>\n",
       "      <td>0.2500</td>\n",
       "      <td>5.301356</td>\n",
       "      <td>2.679028</td>\n",
       "      <td>1.190679</td>\n",
       "      <td>1.644271</td>\n",
       "      <td>6.0</td>\n",
       "    </tr>\n",
       "    <tr>\n",
       "      <th>3</th>\n",
       "      <td>3</td>\n",
       "      <td>M</td>\n",
       "      <td>1.3375</td>\n",
       "      <td>1.0875</td>\n",
       "      <td>0.4125</td>\n",
       "      <td>26.322511</td>\n",
       "      <td>10.999606</td>\n",
       "      <td>6.562909</td>\n",
       "      <td>7.654365</td>\n",
       "      <td>10.0</td>\n",
       "    </tr>\n",
       "    <tr>\n",
       "      <th>4</th>\n",
       "      <td>4</td>\n",
       "      <td>M</td>\n",
       "      <td>1.7000</td>\n",
       "      <td>1.3000</td>\n",
       "      <td>0.4250</td>\n",
       "      <td>44.225220</td>\n",
       "      <td>24.678240</td>\n",
       "      <td>9.043491</td>\n",
       "      <td>10.517665</td>\n",
       "      <td>9.0</td>\n",
       "    </tr>\n",
       "  </tbody>\n",
       "</table>\n",
       "</div>"
      ],
      "text/plain": [
       "   id Sex  Length  Diameter  Height     Weight  Shucked Weight  \\\n",
       "0   0   I  0.8125    0.6250  0.1625   5.244657        2.423882   \n",
       "1   1   M  1.1750    0.9250  0.2875  13.366789        5.556502   \n",
       "2   2   I  0.8500    0.6500  0.2500   5.301356        2.679028   \n",
       "3   3   M  1.3375    1.0875  0.4125  26.322511       10.999606   \n",
       "4   4   M  1.7000    1.3000  0.4250  44.225220       24.678240   \n",
       "\n",
       "   Viscera Weight  Shell Weight   Age  \n",
       "0        1.119805      1.133980   5.0  \n",
       "1        2.806601      4.266600   8.0  \n",
       "2        1.190679      1.644271   6.0  \n",
       "3        6.562909      7.654365  10.0  \n",
       "4        9.043491     10.517665   9.0  "
      ]
     },
     "execution_count": 68,
     "metadata": {},
     "output_type": "execute_result"
    }
   ],
   "source": [
    "# import wykorzystywanych bibliotek\n",
    "from sklearn.model_selection import train_test_split\n",
    "from sklearn import model_selection, preprocessing, linear_model, naive_bayes, metrics, svm, ensemble\n",
    "import numpy as np\n",
    "import pandas as pd\n",
    "import seaborn as sns\n",
    "import matplotlib.pyplot as plt\n",
    "\n",
    "crab = pd.read_csv('crab_data.csv') # import csv do ramki danych\n",
    "crab.head() # wyświetlenie pierwszych pięciu rekordów"
   ]
  },
  {
   "cell_type": "code",
   "execution_count": 69,
   "id": "1f31a9d7",
   "metadata": {},
   "outputs": [
    {
     "data": {
      "text/html": [
       "<div>\n",
       "<style scoped>\n",
       "    .dataframe tbody tr th:only-of-type {\n",
       "        vertical-align: middle;\n",
       "    }\n",
       "\n",
       "    .dataframe tbody tr th {\n",
       "        vertical-align: top;\n",
       "    }\n",
       "\n",
       "    .dataframe thead th {\n",
       "        text-align: right;\n",
       "    }\n",
       "</style>\n",
       "<table border=\"1\" class=\"dataframe\">\n",
       "  <thead>\n",
       "    <tr style=\"text-align: right;\">\n",
       "      <th></th>\n",
       "      <th>Sex</th>\n",
       "      <th>Age</th>\n",
       "    </tr>\n",
       "  </thead>\n",
       "  <tbody>\n",
       "    <tr>\n",
       "      <th>0</th>\n",
       "      <td>I</td>\n",
       "      <td>5.0</td>\n",
       "    </tr>\n",
       "    <tr>\n",
       "      <th>1</th>\n",
       "      <td>M</td>\n",
       "      <td>8.0</td>\n",
       "    </tr>\n",
       "    <tr>\n",
       "      <th>2</th>\n",
       "      <td>I</td>\n",
       "      <td>6.0</td>\n",
       "    </tr>\n",
       "    <tr>\n",
       "      <th>3</th>\n",
       "      <td>M</td>\n",
       "      <td>10.0</td>\n",
       "    </tr>\n",
       "    <tr>\n",
       "      <th>4</th>\n",
       "      <td>M</td>\n",
       "      <td>9.0</td>\n",
       "    </tr>\n",
       "    <tr>\n",
       "      <th>...</th>\n",
       "      <td>...</td>\n",
       "      <td>...</td>\n",
       "    </tr>\n",
       "    <tr>\n",
       "      <th>49995</th>\n",
       "      <td>I</td>\n",
       "      <td>8.0</td>\n",
       "    </tr>\n",
       "    <tr>\n",
       "      <th>49996</th>\n",
       "      <td>F</td>\n",
       "      <td>10.0</td>\n",
       "    </tr>\n",
       "    <tr>\n",
       "      <th>49997</th>\n",
       "      <td>M</td>\n",
       "      <td>11.0</td>\n",
       "    </tr>\n",
       "    <tr>\n",
       "      <th>49998</th>\n",
       "      <td>I</td>\n",
       "      <td>6.0</td>\n",
       "    </tr>\n",
       "    <tr>\n",
       "      <th>49999</th>\n",
       "      <td>M</td>\n",
       "      <td>12.0</td>\n",
       "    </tr>\n",
       "  </tbody>\n",
       "</table>\n",
       "<p>50000 rows × 2 columns</p>\n",
       "</div>"
      ],
      "text/plain": [
       "      Sex   Age\n",
       "0       I   5.0\n",
       "1       M   8.0\n",
       "2       I   6.0\n",
       "3       M  10.0\n",
       "4       M   9.0\n",
       "...    ..   ...\n",
       "49995   I   8.0\n",
       "49996   F  10.0\n",
       "49997   M  11.0\n",
       "49998   I   6.0\n",
       "49999   M  12.0\n",
       "\n",
       "[50000 rows x 2 columns]"
      ]
     },
     "execution_count": 69,
     "metadata": {},
     "output_type": "execute_result"
    }
   ],
   "source": [
    "crab.drop(['id', 'Length', 'Diameter', 'Height', 'Weight', 'Shucked Weight', 'Viscera Weight', 'Shell Weight'], axis=1, inplace = True) # usunięcie zbędnych kolumn\n",
    "crab # wyświetlenie df"
   ]
  },
  {
   "cell_type": "code",
   "execution_count": 67,
   "id": "f9b4889b",
   "metadata": {},
   "outputs": [
    {
     "data": {
      "text/html": [
       "<div>\n",
       "<style scoped>\n",
       "    .dataframe tbody tr th:only-of-type {\n",
       "        vertical-align: middle;\n",
       "    }\n",
       "\n",
       "    .dataframe tbody tr th {\n",
       "        vertical-align: top;\n",
       "    }\n",
       "\n",
       "    .dataframe thead th {\n",
       "        text-align: right;\n",
       "    }\n",
       "</style>\n",
       "<table border=\"1\" class=\"dataframe\">\n",
       "  <thead>\n",
       "    <tr style=\"text-align: right;\">\n",
       "      <th></th>\n",
       "      <th>Sex</th>\n",
       "      <th>Age</th>\n",
       "    </tr>\n",
       "  </thead>\n",
       "  <tbody>\n",
       "    <tr>\n",
       "      <th>0</th>\n",
       "      <td>1</td>\n",
       "      <td>8.0</td>\n",
       "    </tr>\n",
       "    <tr>\n",
       "      <th>1</th>\n",
       "      <td>1</td>\n",
       "      <td>10.0</td>\n",
       "    </tr>\n",
       "    <tr>\n",
       "      <th>2</th>\n",
       "      <td>1</td>\n",
       "      <td>9.0</td>\n",
       "    </tr>\n",
       "    <tr>\n",
       "      <th>3</th>\n",
       "      <td>1</td>\n",
       "      <td>9.0</td>\n",
       "    </tr>\n",
       "    <tr>\n",
       "      <th>4</th>\n",
       "      <td>1</td>\n",
       "      <td>15.0</td>\n",
       "    </tr>\n",
       "    <tr>\n",
       "      <th>...</th>\n",
       "      <td>...</td>\n",
       "      <td>...</td>\n",
       "    </tr>\n",
       "    <tr>\n",
       "      <th>33817</th>\n",
       "      <td>1</td>\n",
       "      <td>9.0</td>\n",
       "    </tr>\n",
       "    <tr>\n",
       "      <th>33818</th>\n",
       "      <td>1</td>\n",
       "      <td>10.0</td>\n",
       "    </tr>\n",
       "    <tr>\n",
       "      <th>33819</th>\n",
       "      <td>2</td>\n",
       "      <td>10.0</td>\n",
       "    </tr>\n",
       "    <tr>\n",
       "      <th>33820</th>\n",
       "      <td>1</td>\n",
       "      <td>11.0</td>\n",
       "    </tr>\n",
       "    <tr>\n",
       "      <th>33821</th>\n",
       "      <td>1</td>\n",
       "      <td>12.0</td>\n",
       "    </tr>\n",
       "  </tbody>\n",
       "</table>\n",
       "<p>33822 rows × 2 columns</p>\n",
       "</div>"
      ],
      "text/plain": [
       "       Sex   Age\n",
       "0        1   8.0\n",
       "1        1  10.0\n",
       "2        1   9.0\n",
       "3        1   9.0\n",
       "4        1  15.0\n",
       "...    ...   ...\n",
       "33817    1   9.0\n",
       "33818    1  10.0\n",
       "33819    2  10.0\n",
       "33820    1  11.0\n",
       "33821    1  12.0\n",
       "\n",
       "[33822 rows x 2 columns]"
      ]
     },
     "execution_count": 67,
     "metadata": {},
     "output_type": "execute_result"
    }
   ],
   "source": [
    "if crab.isnull().values.any(): # sprawdzenie, czy nie ma pustego rekordu\n",
    "    crab = crab.dropna().reset_index(drop=True) # jeśli taki występuje, zostaje usunięty\n",
    "\n",
    "\n",
    "crab = crab[crab.Sex != 'I'] # działamy na dwóch płciach - male i female, a w pliku CSV widzimy jeszcze I - pozbywamy się go.\n",
    "crab.reset_index(drop=True, inplace=True) # reset indeksu df, aby przypisać nowy, sekwencyjny indeks\n",
    "crab # ponowne wyświetlenie df "
   ]
  },
  {
   "cell_type": "code",
   "execution_count": 28,
   "id": "e9eb6507",
   "metadata": {},
   "outputs": [],
   "source": [
    "crab['Sex'] = crab['Sex'].astype(int) # zmiana typu danych w \"Sex\" na int (całkowitoliczbową).\n",
    "crab['Sex'].replace({'M' : 1, 'F': 2}, inplace = True) # zamiana dwóch stringów - M na 1 oraz F na 2 (male & female)."
   ]
  },
  {
   "cell_type": "code",
   "execution_count": 30,
   "id": "25ef5a90",
   "metadata": {},
   "outputs": [
    {
     "data": {
      "text/html": [
       "<div>\n",
       "<style scoped>\n",
       "    .dataframe tbody tr th:only-of-type {\n",
       "        vertical-align: middle;\n",
       "    }\n",
       "\n",
       "    .dataframe tbody tr th {\n",
       "        vertical-align: top;\n",
       "    }\n",
       "\n",
       "    .dataframe thead th {\n",
       "        text-align: right;\n",
       "    }\n",
       "</style>\n",
       "<table border=\"1\" class=\"dataframe\">\n",
       "  <thead>\n",
       "    <tr style=\"text-align: right;\">\n",
       "      <th></th>\n",
       "      <th>Sex</th>\n",
       "      <th>Age</th>\n",
       "    </tr>\n",
       "  </thead>\n",
       "  <tbody>\n",
       "    <tr>\n",
       "      <th>count</th>\n",
       "      <td>33822.000000</td>\n",
       "      <td>33822.000000</td>\n",
       "    </tr>\n",
       "    <tr>\n",
       "      <th>mean</th>\n",
       "      <td>1.454497</td>\n",
       "      <td>11.067648</td>\n",
       "    </tr>\n",
       "    <tr>\n",
       "      <th>std</th>\n",
       "      <td>0.497933</td>\n",
       "      <td>2.995661</td>\n",
       "    </tr>\n",
       "    <tr>\n",
       "      <th>min</th>\n",
       "      <td>1.000000</td>\n",
       "      <td>1.000000</td>\n",
       "    </tr>\n",
       "    <tr>\n",
       "      <th>25%</th>\n",
       "      <td>1.000000</td>\n",
       "      <td>9.000000</td>\n",
       "    </tr>\n",
       "    <tr>\n",
       "      <th>50%</th>\n",
       "      <td>1.000000</td>\n",
       "      <td>10.000000</td>\n",
       "    </tr>\n",
       "    <tr>\n",
       "      <th>75%</th>\n",
       "      <td>2.000000</td>\n",
       "      <td>12.000000</td>\n",
       "    </tr>\n",
       "    <tr>\n",
       "      <th>max</th>\n",
       "      <td>2.000000</td>\n",
       "      <td>29.000000</td>\n",
       "    </tr>\n",
       "  </tbody>\n",
       "</table>\n",
       "</div>"
      ],
      "text/plain": [
       "                Sex           Age\n",
       "count  33822.000000  33822.000000\n",
       "mean       1.454497     11.067648\n",
       "std        0.497933      2.995661\n",
       "min        1.000000      1.000000\n",
       "25%        1.000000      9.000000\n",
       "50%        1.000000     10.000000\n",
       "75%        2.000000     12.000000\n",
       "max        2.000000     29.000000"
      ]
     },
     "execution_count": 30,
     "metadata": {},
     "output_type": "execute_result"
    }
   ],
   "source": [
    "crab.describe() # wyświetlenie statystyk opisowych tj. liczba niepustych wartości, średnia wartość w kolumne, odchylenia czy najmniejsza i największa wartość."
   ]
  },
  {
   "cell_type": "code",
   "execution_count": 21,
   "id": "58e7e890",
   "metadata": {},
   "outputs": [
    {
     "name": "stdout",
     "output_type": "stream",
     "text": [
      "<class 'pandas.core.frame.DataFrame'>\n",
      "RangeIndex: 33822 entries, 0 to 33821\n",
      "Data columns (total 2 columns):\n",
      " #   Column  Non-Null Count  Dtype  \n",
      "---  ------  --------------  -----  \n",
      " 0   Sex     33822 non-null  object \n",
      " 1   Age     33822 non-null  float64\n",
      "dtypes: float64(1), object(1)\n",
      "memory usage: 528.6+ KB\n"
     ]
    }
   ],
   "source": [
    "crab.info() # wyświtlenie liczby wierszy i kolumn, nazwy kolumn, typy danych kolumn oraz ilość niepustych wartości w poszczególnych kolumnach."
   ]
  },
  {
   "cell_type": "code",
   "execution_count": 22,
   "id": "c0a3f87b",
   "metadata": {},
   "outputs": [
    {
     "data": {
      "text/plain": [
       "<AxesSubplot:>"
      ]
     },
     "execution_count": 22,
     "metadata": {},
     "output_type": "execute_result"
    },
    {
     "data": {
      "image/png": "[encoded data removed]",
      "text/plain": [
       "<Figure size 640x480 with 1 Axes>"
      ]
     },
     "metadata": {},
     "output_type": "display_data"
    }
   ],
   "source": [
    "crab['Age'].hist() # wygenerowanie histogramu do przedstawieniaw występowania wieku na wykresie"
   ]
  },
  {
   "cell_type": "code",
   "execution_count": 29,
   "id": "6b3fe9e8",
   "metadata": {},
   "outputs": [
    {
     "data": {
      "text/plain": [
       "<AxesSubplot:>"
      ]
     },
     "execution_count": 29,
     "metadata": {},
     "output_type": "execute_result"
    },
    {
     "data": {
      "image/png": "[encoded data removed]",
      "text/plain": [
       "<Figure size 640x480 with 1 Axes>"
      ]
     },
     "metadata": {},
     "output_type": "display_data"
    }
   ],
   "source": [
    "crab['Sex'].hist() # wygenerowanie histogramu do wyświetlenia płci na wykresie"
   ]
  },
  {
   "cell_type": "code",
   "execution_count": 31,
   "id": "280839cf",
   "metadata": {},
   "outputs": [
    {
     "data": {
      "image/png": "[encoded data removed]",
      "text/plain": [
       "<Figure size 300x300 with 2 Axes>"
      ]
     },
     "metadata": {},
     "output_type": "display_data"
    }
   ],
   "source": [
    "correlations = crab.corr() # stworzenie macierzy korelacji dla wszystkich kolumn w df.\n",
    "fig, ax = plt.subplots(figsize=(3, 3)) # stworzenie obiektu figury (fig) i osi (ax) o określonym rozmiarze, w tym przypadku 3 na 3.\n",
    "\n",
    "colormap = sns.color_palette(\"BrBG\", 3) #definicja palety, która będzie użyta w heatmapie\n",
    "\n",
    "sns.heatmap(correlations, # stworzenie heatmapy na podstawie macierzy korelacji.\n",
    "    cmap=colormap, # parametr 'cmap' określa użytą paletę kolorów\n",
    "    annot=True, # annot=True dodaje wartość korelacji jako adnotację\n",
    "    fmt=\".2f\") # ustala format wyświetlania, w tym przypadku dwie liczby po przecinku\n",
    "ax.set_yticklabels(crab.columns) # usunięcie etykiety osi Y na nazwy kolumn z df\n",
    "\n",
    "plt.show() # wyswietlenie wykresu"
   ]
  },
  {
   "cell_type": "code",
   "execution_count": 32,
   "id": "c8e40396",
   "metadata": {},
   "outputs": [
    {
     "data": {
      "text/plain": [
       "array([[ 8.],\n",
       "       [10.],\n",
       "       [ 9.],\n",
       "       ...,\n",
       "       [10.],\n",
       "       [11.],\n",
       "       [12.]])"
      ]
     },
     "execution_count": 32,
     "metadata": {},
     "output_type": "execute_result"
    }
   ],
   "source": [
    "X = crab.drop('Sex', axis = 1).to_numpy() # usunięcie kolumny Sex w celu uporzadkowania danych dot. wieku\n",
    "X # wyświetlenie"
   ]
  },
  {
   "cell_type": "code",
   "execution_count": 33,
   "id": "4ea56e93",
   "metadata": {},
   "outputs": [
    {
     "data": {
      "text/plain": [
       "array([1, 1, 1, ..., 2, 1, 1])"
      ]
     },
     "execution_count": 33,
     "metadata": {},
     "output_type": "execute_result"
    }
   ],
   "source": [
    "y = crab.loc[:, 'Sex'].to_numpy() # wybieramy wszystkie wiersze za pomocą metody .loc[] \":\". oraz przekształcenie go w tablicę generowaną w NumPy\n",
    "y"
   ]
  },
  {
   "cell_type": "code",
   "execution_count": 70,
   "id": "7ed2acec",
   "metadata": {},
   "outputs": [],
   "source": [
    "X_train, X_test, y_train, y_test = train_test_split(X, y, test_size=0.2, random_state=12345) # podzielenie danych na zbiór treningowy i testowy przy użyciu funkcji train_test_split() z biblioteki sklearn.model_selection. \n",
    "# x i y to macierz X i wektor y, które zawierają dane pochodzące z df. test_size=0.2 określa, że 20% danych będzie przypisane do zbioru testowego, a 80% danych będzie przypisane do zbioru treningowego.\n",
    "# random_state=12345 ustawia ziarno losowości, co zapewnia powtarzalność podziału danych. "
   ]
  },
  {
   "cell_type": "code",
   "execution_count": 35,
   "id": "9437575a",
   "metadata": {},
   "outputs": [],
   "source": [
    "def train_model(classifier, feature_vector_train, label, feature_vector_valid):\n",
    "    # trenowanie modelu, dopasowując go do danych treningowych. Model jest uczony na podstawie macierzy cech \n",
    "    classifier.fit(feature_vector_train, label)\n",
    "    \n",
    "    # generowanie przewidywania modelu dla danych testowych, korzystając z macierzy cech feature_vector_valid. Przewidywania są przechowywane w zmiennej predictions.\n",
    "    predictions = classifier.predict(feature_vector_valid)\n",
    "    \n",
    "    # obliczenie miary precyzji, czułości i F1-score dla przewidywań predictions w odniesieniu do rzeczywistych etykiet y_test. Funkcja zwraca listę wyników dla każdej klasy.\n",
    "    scores = list(metrics.precision_recall_fscore_support(predictions, y_test))\n",
    "    score_vals = [\n",
    "        scores[0][0], # \n",
    "        scores[1][0], # \n",
    "        scores[2][0] # przechwycenie w tablicy wartości precyzji, czułości i F1-score dla klasy o indeksie 0 (domyślnie pierwsza klasa). Wyniki są przechowywane w zmiennej score_vals.\n",
    "    ]\n",
    "    score_vals.append(metrics.accuracy_score(predictions, y_test)) # obliczenie dokładności (accuracy) modelu, porównując przewidywania predictions z rzeczywistymi etykietami y_test oraz dodanie wartości do listy score_vals.\n",
    "    return score_vals # zwrócenie listy score_vals"
   ]
  },
  {
   "cell_type": "code",
   "execution_count": 36,
   "id": "aba0922f",
   "metadata": {},
   "outputs": [
    {
     "name": "stdout",
     "output_type": "stream",
     "text": [
      "LR:  [0.890171858216971, 0.5571428571428572, 0.6853421542278271, 0.5500369549150037]\n"
     ]
    }
   ],
   "source": [
    "# MODEL 1 - regresja logistyczna \n",
    "accuracy = train_model(linear_model.LogisticRegression(), X_train, y_train, X_test) # stworzenie obiektu klasyfikatora regresji logistycznej oraz wywołanie funkcji train_model z klasyfikatorem regresji logistycznej, danymi treningowymi X_train i y_train, oraz danymi testowymi X_test. Funkcja trenuje model regresji logistycznej, generuje przewidywania dla danych testowych i ocenia wyniki modelu na podstawie danych testowych.\n",
    "accuracy_compare = {'LR': accuracy} # stworzenie słownika accuracy_compare, w którym kluczem jest 'LR', a wartością jest dokładność (accuracy) modelu regresji logistycznej.\n",
    "print (\"LR: \", accuracy) # wyświetlenie wartości dokładności (accuracy) modelu regresji logistycznej."
   ]
  },
  {
   "cell_type": "code",
   "execution_count": 48,
   "id": "3382d251",
   "metadata": {},
   "outputs": [
    {
     "name": "stdout",
     "output_type": "stream",
     "text": [
      "SVM [0.9272287862513426, 0.5555913113435237, 0.694838514941141, 0.5516629711751663]\n"
     ]
    }
   ],
   "source": [
    "# MODEL 2 - Support Vector Machine\n",
    "accuracy = train_model(svm.SVC(), X_train, y_train, X_test) # stworzenie obiektu klasyfikatora maszyny wektorów nośnych (SVM) i wywołanie funkcji train_model z klasyfikatorem SVM, danymi treningowymi X_train i y_train, oraz danymi testowymi X_test. Funkcja trenuje model SVM, generuje przewidywania dla danych testowych i ocenia wyniki modelu na podstawie danych testowych.\n",
    "accuracy_compare['SVM'] = accuracy # dodanie wartości do słownika accuracy_compare klucz 'SVM' i przypisanie wartości dokładności (accuracy) modelu SVM.\n",
    "print (\"SVM\" , accuracy) # wyświetlenie wartości dokładności (accuracy) modelu SVM. "
   ]
  },
  {
   "cell_type": "code",
   "execution_count": 49,
   "id": "c663794b",
   "metadata": {},
   "outputs": [
    {
     "name": "stdout",
     "output_type": "stream",
     "text": [
      "RF:  [0.7408700322234156, 0.5666461285684946, 0.6421505876876528, 0.5454545454545454]\n"
     ]
    }
   ],
   "source": [
    "# MODEL 3 - Random Forest Tree \n",
    "accuracy = train_model(ensemble.RandomForestClassifier(), X_train, y_train, X_test) # stworzenie obiektu klasyfikatora drzew losowych (Random Forest) oraz wywołanie funkcji train_model z klasyfikatorem drzew losowych, danymi treningowymi X_train i y_train, oraz danymi testowymi X_test. Funkcja trenuje model drzew losowych, generuje przewidywania dla danych testowych i ocenia wyniki modelu na podstawie danych testowych.\n",
    "accuracy_compare['RF'] = accuracy # dodanie wartości do słownika accuracy_compare klucz 'RF' (Random Forest) i przypisanie wartości dokładności (accuracy) modelu drzew losowych.\n",
    "print (\"RF: \", accuracy)"
   ]
  },
  {
   "cell_type": "code",
   "execution_count": 50,
   "id": "98cb8b15",
   "metadata": {},
   "outputs": [
    {
     "data": {
      "text/plain": [
       "<AxesSubplot:>"
      ]
     },
     "execution_count": 50,
     "metadata": {},
     "output_type": "execute_result"
    },
    {
     "data": {
      "image/png": "[encoded data removed]",
      "text/plain": [
       "<Figure size 640x480 with 1 Axes>"
      ]
     },
     "metadata": {},
     "output_type": "display_data"
    }
   ],
   "source": [
    "# porównanie modeli\n",
    "\n",
    "df_compare = pd.DataFrame(accuracy_compare, index = ['precision', 'recall', 'f1 score', 'accuracy']) # stworzenie obiektu df o nazwie df_compare na podstawie słownika accuracy_compare. Indeksy df są ustawione na ['precision', 'recall', 'f1 score', 'accuracy'], a wartości są pobierane z kluczy i wartości w słowniku \n",
    "df_compare.plot(kind='bar') # wyświetlenie wykresu słupkowego dla danych w df. Jeśli chodzi o obiekt df_compare -> każdy model (LR, SVM, RF) jest reprezentowany jako osobny słupek, a wysokości słupków odpowiadają wartościom dokładności, precyzji, czułości i F1-score dla poszczególnych modeli."
   ]
  },
  {
   "cell_type": "code",
   "execution_count": 51,
   "id": "a059da4d",
   "metadata": {},
   "outputs": [
    {
     "name": "stdout",
     "output_type": "stream",
     "text": [
      "neural network [0.9229323308270677, 0.5565991902834008, 0.6944135771290029, 0.5528455284552846]\n"
     ]
    }
   ],
   "source": [
    "# działania korygujące - zastosowanie sieci neuronowej\n",
    "\n",
    "# MODEL 4 - neural network\n",
    "from sklearn.neural_network import MLPClassifier # import klasy MLPClassifier z modułu sklearn.neural_network, która reprezentuje sieć neuronową.\n",
    "mlp = MLPClassifier(hidden_layer_sizes=(10, 10, 10), max_iter=1000) # stworzenie obiektu MLPClassifier jako model sieci neuronowej. Parametr hidden_layer_sizes określa architekturę sieci neuronowej, a max_iter określa maksymalną liczbę iteracji podczas treningu.\n",
    "accuracy = train_model(mlp, X_train, y_train, X_test) # wywołanie funkcji train_model z modelem sieci neuronowej mlp, danymi treningowymi X_train i y_train, oraz danymi testowymi X_test. Funkcja trenuje model sieci neuronowej, generuje przewidywania dla danych testowych i ocenia wyniki modelu na podstawie danych testowych.\n",
    "accuracy_compare['neural network'] = accuracy # dodanie do słownika accuracy_compare klucza 'neural network' i przypisanie wartości dokładności (accuracy) modelu sieci neuronowej.\n",
    "print (\"neural network\" , accuracy) # wyświetlenie wartości dokładności (accuracy) modelu sieci neuronowej."
   ]
  },
  {
   "cell_type": "code",
   "execution_count": 52,
   "id": "ba365f89",
   "metadata": {},
   "outputs": [
    {
     "name": "stdout",
     "output_type": "stream",
     "text": [
      "SVM gamma='auto' [0.7408700322234156, 0.5666461285684946, 0.6421505876876528, 0.5454545454545454]\n"
     ]
    }
   ],
   "source": [
    "# MODEL 5 - Support Vector Machine\n",
    "accuracy = train_model(svm.SVC(gamma='auto'), X_train, y_train, X_test) # stworzenie obiektu klasyfikatora maszyny wektorów nośnych (SVM) z parametrem gamma ustawionym na 'auto'. Parametr gamma kontroluje wpływ pojedynczych przykładów danych na tworzenie granic decyzyjnych przez model oraz wywołanie funkcji train_model z klasyfikatorem SVM z automatycznym gamma, danymi treningowymi X_train i y_train, oraz danymi testowymi X_test. Funkcja trenuje model SVM z automatycznym gamma, generuje przewidywania dla danych testowych i ocenia wyniki modelu na podstawie danych testowych.\n",
    "accuracy_compare['SVM'] = accuracy # dodanie do słownika accuracy_compare klucza 'SVM' i przypisanie mu wartości dokładności (accuracy) modelu SVM z automatycznym gamma.\n",
    "print (\"SVM gamma='auto'\" , accuracy) # wyświetlenie wartości dokładności (accuracy) modelu SVM z automatycznym gamma."
   ]
  },
  {
   "cell_type": "code",
   "execution_count": 53,
   "id": "0193828f",
   "metadata": {},
   "outputs": [
    {
     "name": "stdout",
     "output_type": "stream",
     "text": [
      "SVM kernel='sigmoid' [0.9774436090225563, 0.5459727013649317, 0.7006062939081897, 0.5401330376940133]\n"
     ]
    }
   ],
   "source": [
    "# MODEL 6 - Support Vector Machine\n",
    "accuracy = train_model(svm.SVC(kernel='sigmoid'), X_train, y_train, X_test) # stworzenie obiektu klasyfikatora maszyny wektorów nośnych (SVM) z jądrem sigmoidalnym. Jądro sigmoidalne jest jednym z rodzajów jąder używanych w SVM, które transformuje dane na podstawie funkcji sigmoidalnej oraz wykonanie funkcji train_model z klasyfikatorem SVM z jądrem sigmoidalnym, danymi treningowymi X_train i y_train, oraz danymi testowymi X_test. Funkcja trenuje model SVM z jądrem sigmoidalnym, generuje przewidywania dla danych testowych i ocenia wyniki modelu na podstawie danych testowych.\n",
    "accuracy_compare['SVM'] = accuracy # dodanie do słownika accuracy_compare klucza 'SVM' i przypisanie wartości dokładności (accuracy) modelu SVM z jądrem sigmoidalnym.\n",
    "print (\"SVM kernel='sigmoid'\" , accuracy) # wyświetlenie wartości dokładności (accuracy) modelu SVM z jądrem sigmoidalnym."
   ]
  },
  {
   "cell_type": "code",
   "execution_count": 54,
   "id": "3f388ea1",
   "metadata": {},
   "outputs": [
    {
     "name": "stdout",
     "output_type": "stream",
     "text": [
      "SVM degree=4 [0.9272287862513426, 0.5555913113435237, 0.694838514941141, 0.5516629711751663]\n"
     ]
    }
   ],
   "source": [
    "# MODEL 7 - Support Vector Machine \n",
    "accuracy = train_model(svm.SVC(degree=4), X_train, y_train, X_test) # stworzenie obiektu klasyfikatora maszyny wektorów nośnych (SVM) oraz wykonanie funkcji train_model z klasyfikatorem SVM, danymi treningowymi X_train i y_train, oraz danymi testowymi X_test. Funkcja trenuje model SVM, generuje przewidywania dla danych testowych i ocenia wyniki modelu na podstawie danych testowych.\n",
    "accuracy_compare['SVM'] = accuracy # dodanie do słownika accuracy_compare klucza 'SVM' i przypisanie wartości dokładności (accuracy) modelu SVM.\n",
    "print (\"SVM degree=4\" , accuracy) # wyświetlenie wartości dokładności (accuracy) modelu SVM z parametrem degree równym 4. Parametr degree odnosi się do stopnia wielomianowego jądra SVM."
   ]
  },
  {
   "cell_type": "code",
   "execution_count": 63,
   "id": "bd3636f1",
   "metadata": {},
   "outputs": [],
   "source": [
    "import pickle # import modułu pickle, który umożliwia serializację i deserializację obiektów Pythona.\n",
    "\n",
    "file_path = 'crab_data.pickle' # ścieżkę pliku, do którego będą zapisywane dane, do zmiennej file_path, w tym przypadku ten sam folder, plik .pickle.\n",
    "\n",
    "# Zapis danych do nowego pliku w poprawnym kodowaniu UTF-8\n",
    "with open(file_path, 'wb') as handle: # otwarcie pliku w trybie zapisu binarnego ('wb'). Wykorzystane jest polecenie with, które automatycznie zarządza zamykaniem pliku po zakończeniu bloku kodu.\n",
    "    pickle.dump(data, handle) # zapisanie obiektu data do pliku o podanej ścieżce (handle) przy użyciu metody dump z modułu pickle. Dane są zapisywane w postaci zserializowanej."
   ]
  },
  {
   "cell_type": "code",
   "execution_count": null,
   "id": "bc1835b0",
   "metadata": {},
   "outputs": [],
   "source": []
  }
 ],
 "metadata": {
  "kernelspec": {
   "display_name": "Python 3 (ipykernel)",
   "language": "python",
   "name": "python3"
  },
  "language_info": {
   "codemirror_mode": {
    "name": "ipython",
    "version": 3
   },
   "file_extension": ".py",
   "mimetype": "text/x-python",
   "name": "python",
   "nbconvert_exporter": "python",
   "pygments_lexer": "ipython3",
   "version": "3.9.13"
  }
 },
 "nbformat": 4,
 "nbformat_minor": 5
}
